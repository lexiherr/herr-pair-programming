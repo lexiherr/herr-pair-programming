{
 "cells": [
  {
   "cell_type": "markdown",
   "id": "14bceb26-07c0-4102-8083-f99d8877f6a1",
   "metadata": {},
   "source": [
    "# Take input data and return scaled values in range of 0.0 and 1.0\n",
    "### GPGN 268, Lexi Herr, February 16, 2023"
   ]
  },
  {
   "cell_type": "code",
   "execution_count": 32,
   "id": "74d5a368-a4a3-44a0-b356-7d59aeccc207",
   "metadata": {},
   "outputs": [],
   "source": [
    "import numpy as np\n",
    "def scale_value(data):\n",
    "    assert (data>0).all(), \"All values in array must be positive\"\n",
    "    return (data/(np.nanmax(data)))"
   ]
  },
  {
   "cell_type": "code",
   "execution_count": 35,
   "id": "07ea0489-a87a-43d6-8251-5a4585e4699c",
   "metadata": {},
   "outputs": [],
   "source": [
    "ar = [5., 1, 10]\n",
    "x=np.array(ar)"
   ]
  },
  {
   "cell_type": "code",
   "execution_count": 36,
   "id": "848fe2b3-8635-4a92-b318-edeb8cd6d9dd",
   "metadata": {},
   "outputs": [
    {
     "data": {
      "text/plain": [
       "array([0.5, 0.1, 1. ])"
      ]
     },
     "execution_count": 36,
     "metadata": {},
     "output_type": "execute_result"
    }
   ],
   "source": [
    "scale_value(x)"
   ]
  },
  {
   "cell_type": "code",
   "execution_count": null,
   "id": "a7f800f3-7c16-4b3e-b77f-02e95eaba1fd",
   "metadata": {},
   "outputs": [],
   "source": []
  }
 ],
 "metadata": {
  "kernelspec": {
   "display_name": "Python 3 (ipykernel)",
   "language": "python",
   "name": "python3"
  },
  "language_info": {
   "codemirror_mode": {
    "name": "ipython",
    "version": 3
   },
   "file_extension": ".py",
   "mimetype": "text/x-python",
   "name": "python",
   "nbconvert_exporter": "python",
   "pygments_lexer": "ipython3",
   "version": "3.9.13"
  }
 },
 "nbformat": 4,
 "nbformat_minor": 5
}
